{
 "cells": [
  {
   "cell_type": "code",
   "execution_count": 1,
   "metadata": {},
   "outputs": [],
   "source": [
    "import numpy as np\n",
    "import matplotlib.pyplot as plt\n",
    "import pandas as pd\n",
    "from sklearn.svm import SVC\n",
    "from pandas import Series, DataFrame\n",
    "SVC = SVC(kernel=\"linear\", C = 5)\n",
    "#Pour l'instant on n'influe pas sur la valeur c"
   ]
  },
  {
   "cell_type": "code",
   "execution_count": 2,
   "metadata": {},
   "outputs": [],
   "source": [
    "testData=pd.read_csv(\"test.csv\")\n",
    "trainData=pd.read_csv(\"train.csv\")"
   ]
  },
  {
   "cell_type": "code",
   "execution_count": 3,
   "metadata": {},
   "outputs": [],
   "source": [
    "#A faire après l'import\n",
    "testDataCor=testData.loc[testData['Type Operation'].isin(['CASH_OUT','TRANSFER'])]\n",
    "\n",
    "trainDataCor=trainData.loc[trainData['Type Operation'].isin(['CASH_OUT','TRANSFER'])]\n",
    "    "
   ]
  },
  {
   "cell_type": "code",
   "execution_count": 4,
   "metadata": {},
   "outputs": [],
   "source": [
    "testDataFrame = DataFrame(testDataCor)\n",
    "trainDataFrame = DataFrame(trainDataCor)"
   ]
  },
  {
   "cell_type": "code",
   "execution_count": 5,
   "metadata": {},
   "outputs": [
    {
     "name": "stdout",
     "output_type": "stream",
     "text": [
      "Fraude\n",
      "0    1994\n",
      "1       6\n",
      "dtype: int64\n",
      "Fraude\n",
      "0     663\n",
      "1    1337\n",
      "dtype: int64\n"
     ]
    }
   ],
   "source": [
    "print(trainDataFrame[:2000].groupby('Fraude').size())\n",
    "print(testDataFrame[:2000].groupby('Fraude').size())"
   ]
  },
  {
   "cell_type": "code",
   "execution_count": null,
   "metadata": {},
   "outputs": [],
   "source": []
  },
  {
   "cell_type": "markdown",
   "metadata": {},
   "source": [
    "Fonction qui permet d'encoder "
   ]
  },
  {
   "cell_type": "code",
   "execution_count": 6,
   "metadata": {},
   "outputs": [],
   "source": [
    "def encode_target(df, target_column):\n",
    "    \"\"\"Add column to df with integers for the target.\n",
    "\n",
    "    Args\n",
    "    ----\n",
    "    df -- pandas DataFrame.\n",
    "    target_column -- column to map to int, producing\n",
    "                     new Target column.\n",
    "\n",
    "    Returns\n",
    "    -------\n",
    "    df_mod -- modified DataFrame.\n",
    "    targets -- list of target names.\n",
    "    \"\"\"\n",
    "    df_mod = df.copy()\n",
    "    targets = df_mod[target_column].unique()\n",
    "    map_to_int = {name: n for n, name in enumerate(targets)}\n",
    "    df_mod[\"Operation\"] = df_mod[target_column].replace(map_to_int)\n",
    "\n",
    "    return (df_mod, targets)"
   ]
  },
  {
   "cell_type": "code",
   "execution_count": 7,
   "metadata": {},
   "outputs": [
    {
     "name": "stdout",
     "output_type": "stream",
     "text": [
      "['TRANSFER' 'CASH_OUT']\n"
     ]
    }
   ],
   "source": [
    "y_train=trainDataFrame[:2000].iloc[:,8].copy() \n",
    "x=trainDataFrame[:2000].iloc[:,:8].copy()\n",
    "\n",
    "df1, targets = encode_target(x, \"Type Operation\")\n",
    "print(targets)\n"
   ]
  },
  {
   "cell_type": "code",
   "execution_count": 8,
   "metadata": {},
   "outputs": [
    {
     "name": "stdout",
     "output_type": "stream",
     "text": [
      "('* features:', ['Montant', 'Montant Cpt Source avt', 'Montant Cpt Source aft', 'Montant Cpt Dest', 'Montant Cpt Dest.1', 'Operation'])\n"
     ]
    }
   ],
   "source": [
    "features = ['Montant', 'Montant Cpt Source avt', 'Montant Cpt Source aft', 'Montant Cpt Dest', 'Montant Cpt Dest.1', 'Operation']\n",
    "print(\"* features:\", features)\n",
    "X_train = df1[features]\n"
   ]
  },
  {
   "cell_type": "code",
   "execution_count": 9,
   "metadata": {},
   "outputs": [
    {
     "data": {
      "text/plain": [
       "SVC(C=5, cache_size=200, class_weight=None, coef0=0.0,\n",
       "  decision_function_shape='ovr', degree=3, gamma='auto', kernel='linear',\n",
       "  max_iter=-1, probability=False, random_state=None, shrinking=True,\n",
       "  tol=0.001, verbose=False)"
      ]
     },
     "execution_count": 9,
     "metadata": {},
     "output_type": "execute_result"
    }
   ],
   "source": [
    "\n",
    "SVC.fit(X_train, y_train)"
   ]
  },
  {
   "cell_type": "code",
   "execution_count": 10,
   "metadata": {},
   "outputs": [],
   "source": [
    "y_test=testDataFrame[:2000].iloc[:,8].copy() \n",
    "x_test=testDataFrame[:2000].iloc[:,:8].copy() \n",
    "\n",
    "df2, targets = encode_target(x_test, \"Type Operation\")\n",
    "\n",
    "X_test = df2[features]\n",
    "\n"
   ]
  },
  {
   "cell_type": "code",
   "execution_count": 11,
   "metadata": {},
   "outputs": [
    {
     "name": "stdout",
     "output_type": "stream",
     "text": [
      "('Train accuracy:', 1.0)\n",
      "('Test accuracy:', 0.784)\n"
     ]
    }
   ],
   "source": [
    "##training_accuracy = clf.score(X, y)\n",
    "test_accuracy = SVC.score(X_test, y_test)\n",
    "train_accuracy = SVC.score(X_train, y_train)\n",
    "##print(\"Training accuracy:\", training_accuracy)\n",
    "print(\"Train accuracy:\", train_accuracy)\n",
    "print(\"Test accuracy:\", test_accuracy)\n"
   ]
  },
  {
   "cell_type": "code",
   "execution_count": 12,
   "metadata": {},
   "outputs": [
    {
     "data": {
      "text/plain": [
       "array([[<matplotlib.axes._subplots.AxesSubplot object at 0x7efc225ec750>,\n",
       "        <matplotlib.axes._subplots.AxesSubplot object at 0x7efc2cfc6110>],\n",
       "       [<matplotlib.axes._subplots.AxesSubplot object at 0x7efc2cf89710>,\n",
       "        <matplotlib.axes._subplots.AxesSubplot object at 0x7efc2cf4cd90>],\n",
       "       [<matplotlib.axes._subplots.AxesSubplot object at 0x7efc2ce95210>,\n",
       "        <matplotlib.axes._subplots.AxesSubplot object at 0x7efc2cea8e10>]],\n",
       "      dtype=object)"
      ]
     },
     "execution_count": 12,
     "metadata": {},
     "output_type": "execute_result"
    },
    {
     "data": {
      "image/png": "[encoded data removed]",
      "text/plain": [
       "<matplotlib.figure.Figure at 0x7efc2fb4ea10>"
      ]
     },
     "metadata": {},
     "output_type": "display_data"
    }
   ],
   "source": [
    "trainData.boxplot(by=\"Fraude\",figsize=(10,10))"
   ]
  },
  {
   "cell_type": "code",
   "execution_count": 29,
   "metadata": {},
   "outputs": [],
   "source": [
    "#Pour essayer d'améliorer les résultats on va utiliser un PCA\n",
    "from sklearn.decomposition import PCA\n",
    "from sklearn.preprocessing import StandardScaler\n",
    "\n",
    "\n"
   ]
  }
 ],
 "metadata": {
  "kernelspec": {
   "display_name": "Python 2",
   "language": "python",
   "name": "python2"
  },
  "language_info": {
   "codemirror_mode": {
    "name": "ipython",
    "version": 2
   },
   "file_extension": ".py",
   "mimetype": "text/x-python",
   "name": "python",
   "nbconvert_exporter": "python",
   "pygments_lexer": "ipython2",
   "version": "2.7.12"
  }
 },
 "nbformat": 4,
 "nbformat_minor": 2
}
